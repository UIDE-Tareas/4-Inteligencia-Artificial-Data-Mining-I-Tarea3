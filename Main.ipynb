{
 "cells": [
  {
   "cell_type": "markdown",
   "id": "2d98f177",
   "metadata": {},
   "source": [
    "<div style=\"display: table; width: 100%;\">\n",
    "  <div style=\"display: table-cell; text-align: center; vertical-align: middle; width: 70%;\">\n",
    "    <h2>Maestría en Ciencia de Datos y Máquinas de Aprendizaje</h2>\n",
    "    <h1>Inteligencia Artificial: Data Mining I - Tarea 2</h1>\n",
    "  </div>\n",
    "  <div style=\"display: table-cell; text-align: center; vertical-align: middle; width: 30%;\">\n",
    "    <img src=\"https://github.com/UIDE-Tareas/4-Inteligencia-Artificial-Data-Mining-I-Tarea3/blob/main/Assets/UideLogo.png?raw=true\" alt=\"Texto alternativo\" style=\"width:50%;\">\n",
    "  </div>\n",
    "</div>\n",
    "<hr />\n",
    "\n",
    "#  Clustering\n",
    "##  Breast Cancer Wisconsin Diagnostic Dataset\n",
    "\n",
    "### 🟦 **Autores - Estudiantes - Grupo 7:**\n",
    "\n",
    "&nbsp;&nbsp;&nbsp;&nbsp;💻 Luis Miguel Ramírez      \n",
    "&nbsp;&nbsp;&nbsp;&nbsp;💻 Aviles Paute José     \n",
    "&nbsp;&nbsp;&nbsp;&nbsp;💻 Espinoza Bone José    \n",
    "\n",
    "### 🟦 Código fuente\n",
    "[https://github.com/UIDE-Tareas/4-Inteligencia-Artificial-Data-Mining-I-Tarea3](https://github.com/UIDE-Tareas/4-Inteligencia-Artificial-Data-Mining-I-Tarea3)\n",
    "\n",
    "\n",
    "**Fecha:** 11 de octubre de 2025\n",
    "\n",
    "### 🟦 Introducción \n",
    "Breast Cancer Wisconsin Diagnostic Dataset es un conjunto de datos ampliamente utilizado en proyectos\n",
    "de ciencia de datos y aprendizaje automático, especialmente para prácticas de clasificación y agrupamiento.\n",
    "\n",
    "Fue recopilado por el Dr. William H. Wolberg en la Universidad de Wisconsin, y contiene información sobre\n",
    "características de células tumorales obtenidas a partir de imágenes digitales de biopsias de tejido mamario.\n",
    "\n",
    "El objetivo de estos datos es analizar las características físicas de los núcleos celulares para ayudar\n",
    "a distinguir entre tumores malignos y benignos.\n",
    "\n",
    "### 🟦 Objetivo General    \n",
    "Aplicar técnicas de regresión, clasificación y redes neuronales para explorar y analizar \n",
    "patrones en los datos del cáncer de mama, con el fin de: \n",
    "1. Identificar relaciones entre variables mediante regresión lineal y logística. \n",
    "2. Evaluar el desempeño de un modelo de red neuronal para clasificación. \n",
    "3. Comparar resultados y probabilidades predichas por cada modelo. \n",
    "\n",
    "### 🟦 Objetivos Específicos      \n",
    "- Realizar análisis exploratorio del dataset. \n",
    "- Implementar regresión lineal multivariable para predecir características continuas. \n",
    "- Implementar regresión logística para clasificar tumores malignos y benignos. \n",
    "- Diseñar y entrenar un MLP en PyTorch para clasificación binaria. \n",
    "- Visualizar resultados y comparar desempeño entre métodos. \n",
    "\n"
   ]
  }
 ],
 "metadata": {
  "language_info": {
   "name": "python"
  }
 },
 "nbformat": 4,
 "nbformat_minor": 5
}
